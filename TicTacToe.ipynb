{
 "cells": [
  {
   "cell_type": "markdown",
   "metadata": {},
   "source": [
    "# TickerTacker: A Chatbot TicTacToe\n",
    "\n",
    "For the purposes of this assignment, I wanted to code a classic paper-and-pencil game to be played via chatbot, so I created an interactive game of Tic Tac Toe.  Typically, this game is played between 2 people, one that is 'X' and the other 'O', where the objective is for a player to place 3 marks in a row either vertically, horizontally, or diagonally, thus winning the game.  If neither player is able to do this, the game ends in a draw. \n",
    "\n",
    "When playing with a chatbot, however, the user's opponent is a simple artificial intelligence such as the one written in the code below, named TickerTacker.  The user plays first as 'X, and then waits for TickerTacker to complete the first move or completes the first move him/herself.  The game continues alternating between the user and the chatbot until either player has won or until the game ends in a draw.  TickerTacker will then ask if the user wants to play again, at which point he/she can decide he wants to continue, or exit the game.\n",
    "\n",
    "#### Process\n",
    "- When writing my code, I found an incredibly helpful diagram (cited below) that helped me pseudocode it initially, to make sure I took into account all the steps of the game, such as asking if the player wants to play again, checking to see if a player won, etc.\n",
    "- After that, I was able to work module by module to build a simple, minimal viable product before adding elements to make the chatbot more human as well, adding to the complexity of the board to mimic a real board, etc.\n",
    "\n",
    "#### Citations\n",
    "- Pseudocode outline: https://inventwithpython.com/chapter10.html\n",
    "- isDigit info: https://www.programiz.com/python-programming/methods/string/isdigit\n",
    "- Cogs 18 (Ellis) Lectures: https://cogs18.github.io/intro/"
   ]
  },
  {
   "cell_type": "code",
   "execution_count": 1,
   "metadata": {},
   "outputs": [],
   "source": [
    "#Importing random\n",
    "import random"
   ]
  },
  {
   "cell_type": "code",
   "execution_count": 2,
   "metadata": {},
   "outputs": [],
   "source": [
    "#Board structure inspired by the one cited above\n",
    "def draw_board(board):\n",
    "    \n",
    "    print(' --- --- ---')\n",
    "    print('| '+ board[1] + ' | ' + board[2] + ' | ' + board[3] + ' |')\n",
    "    print(' --- --- ---')\n",
    "    print('| '+ board[4] + ' | ' + board[5] + ' | ' + board[6] + ' |')\n",
    "    print(' --- --- ---') \n",
    "    print('| '+ board[7] + ' | ' + board[8] + ' | ' + board[9] + ' |')\n",
    "    print(' --- --- ---')"
   ]
  },
  {
   "cell_type": "code",
   "execution_count": 3,
   "metadata": {},
   "outputs": [],
   "source": [
    "#Checking to see if there is a row on the board\n",
    "#Code help from source cited above\n",
    "def check_winner(board, ltr):\n",
    "    \n",
    "    #Defines possible rows that must be completed to win\n",
    "    rows = [(7, 8, 9), (4, 5, 6), (1, 2, 3), (1, 4, 7), (2, 5, 8), (3, 6, 9), (1, 5, 9), (3, 5, 7)]\n",
    "    \n",
    "    #Checking possible horizontal/vertical/diagonal row\n",
    "    for row in rows:\n",
    "        if board[row[0]] == ltr and board[row[1]] == ltr and board[row[2]] == ltr:\n",
    "            return True\n",
    "    return False"
   ]
  },
  {
   "cell_type": "code",
   "execution_count": 4,
   "metadata": {},
   "outputs": [],
   "source": [
    "#Checks to see if board is full\n",
    "#Returns boolean\n",
    "def full_board(board):\n",
    "    \n",
    "    return board.count(' ') <= 1"
   ]
  },
  {
   "cell_type": "code",
   "execution_count": 5,
   "metadata": {},
   "outputs": [],
   "source": [
    "#Get player move from input\n",
    "def user_move(board):\n",
    "    \n",
    "    move = input(\"Please choose an open spot from 1 to 9!\")\n",
    "    \n",
    "    while not move.isdigit() or int(move) <= 0 or int(move) >= 10 or board[int(move)] != ' ':\n",
    "        move = input(\"Please type a valid number from 1 to 9.\")\n",
    "    move = int(move)\n",
    "    board[move] = 'X'\n",
    "    return move "
   ]
  },
  {
   "cell_type": "code",
   "execution_count": null,
   "metadata": {},
   "outputs": [],
   "source": [
    "#Function for chatbot\n",
    "def chatbot_move(board):\n",
    "    \n",
    "    i = 1\n",
    "    next_move = []\n",
    "    for letter in board[1:]:\n",
    "        if letter == ' ':\n",
    "            next_move.append(i)\n",
    "        i += 1\n",
    "    if next_move:\n",
    "        return random.choice(next_move)\n",
    "    return 0"
   ]
  },
  {
   "cell_type": "code",
   "execution_count": null,
   "metadata": {},
   "outputs": [],
   "source": [
    "#Function for main \"TickerTacker\" chatbot \n",
    "def ticker_tacker(board):\n",
    "    print(\"Let's Play!\")\n",
    "    print(\"My name's TickerTacker.\")\n",
    "    print(\"I'll be your opponent today in Tic Tac Toe!\")\n",
    "    print(\"Here's a look at the board we'll be playing with.\")\n",
    "    print(' --- --- ---')\n",
    "    print('| '+ '1' + ' | ' + '2' + ' | ' + '3' + ' |')\n",
    "    print(' --- --- ---')\n",
    "    print('| '+ '4' + ' | ' + '5' + ' | ' + '6' + ' |')\n",
    "    print(' --- --- ---') \n",
    "    print('| '+ '7' + ' | ' + '8' + ' | ' + '9' + ' |')\n",
    "    print(' --- --- ---')\n",
    "    print(\"Note: the spaces are labeled by the numbers on the board, so when you know what space you want to play, go ahead and type that number.\")\n",
    "    print(\"------------\")\n",
    "    print(\"Now go ahead and choose your first space...\")\n",
    "    draw_board(board)\n",
    "    \n",
    "    #Placing user move on board if there isn't a winner\n",
    "    while not full_board(board):\n",
    "        if not check_winner(board, 'O'):\n",
    "            user_move(board)\n",
    "            draw_board(board)\n",
    "        #Ending game with TickerTacker win if board is full\n",
    "        else:\n",
    "            print('Looks like I won this time!')\n",
    "            print('-----------------------------------')\n",
    "            return\n",
    "        \n",
    "        #Placing chatbot move on board if there is a tie/isn't a winner\n",
    "        if not check_winner(board, 'X'):\n",
    "            move = chatbot_move(board)\n",
    "            #Ending game with a tie\n",
    "            if move == 0:\n",
    "                print('Looks like we tied.')\n",
    "                print('-----------------------------------')\n",
    "                return\n",
    "            #Placing chatbot move on board if there isn't a winner\n",
    "            else:\n",
    "                board[move] = 'O'\n",
    "                print('TickerTacker placed an \"O\" in', move , ':')\n",
    "                draw_board(board)\n",
    "        #User move wins game\n",
    "        else:\n",
    "            print('Shucks...Looks like you won. Good job!')\n",
    "            print('-----------------------------------')\n",
    "            return\n",
    "    #Print board in tie\n",
    "    if full_board(board):\n",
    "        print('Looks like we tied.')\n",
    "        print('-----------------------------------')"
   ]
  },
  {
   "cell_type": "code",
   "execution_count": null,
   "metadata": {},
   "outputs": [
    {
     "name": "stdout",
     "output_type": "stream",
     "text": [
      "-----------------------------------\n",
      "Let's Play!\n",
      "My name's TickerTacker.\n",
      "I'll be your opponent today in Tic Tac Toe!\n",
      "Here's a look at the board we'll be playing with.\n",
      " --- --- ---\n",
      "| 1 | 2 | 3 |\n",
      " --- --- ---\n",
      "| 4 | 5 | 6 |\n",
      " --- --- ---\n",
      "| 7 | 8 | 9 |\n",
      " --- --- ---\n",
      "Note: the spaces are labeled by the numbers on the board, so when you know what space you want to play, go ahead and type that number.\n",
      "------------\n",
      "Now go ahead and choose your first space...\n",
      " --- --- ---\n",
      "|   |   |   |\n",
      " --- --- ---\n",
      "|   |   |   |\n",
      " --- --- ---\n",
      "|   |   |   |\n",
      " --- --- ---\n"
     ]
    }
   ],
   "source": [
    "#Starting and continuing the game\n",
    "def play():\n",
    "    \n",
    "    play_again = \"y\"\n",
    "    while True:\n",
    "        if play_again.lower() == 'y' or play_again.lower == 'yes':\n",
    "            board = [' ', ' ', ' ', ' ', ' ', ' ', ' ', ' ', ' ', ' ']\n",
    "            print('-----------------------------------')\n",
    "            ticker_tacker(board)\n",
    "        elif play_again.lower() == 'n' or play_again.lower == 'no':\n",
    "            print(\"Thanks for playing! Come back soon :-)\")\n",
    "            break\n",
    "        else:\n",
    "            print(\"Please type y or n :~)\")\n",
    "        play_again = input(\"Do you want to play again? Y or N: \")\n",
    "        \n",
    "play()"
   ]
  }
 ],
 "metadata": {
  "kernelspec": {
   "display_name": "Python 3",
   "language": "python",
   "name": "python3"
  },
  "language_info": {
   "codemirror_mode": {
    "name": "ipython",
    "version": 3
   },
   "file_extension": ".py",
   "mimetype": "text/x-python",
   "name": "python",
   "nbconvert_exporter": "python",
   "pygments_lexer": "ipython3",
   "version": "3.6.7"
  }
 },
 "nbformat": 4,
 "nbformat_minor": 2
}
